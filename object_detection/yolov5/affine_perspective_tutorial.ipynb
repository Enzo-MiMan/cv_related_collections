{
 "cells": [
  {
   "cell_type": "markdown",
   "source": [
    "## 1、缩放变换"
   ],
   "metadata": {
    "collapsed": false
   }
  },
  {
   "cell_type": "code",
   "execution_count": null,
   "outputs": [],
   "source": [
    "import cv2\n",
    "import numpy as np\n",
    "\n",
    "src_img = cv2.imread(\"img.jpg\")\n",
    "height, width = src_img.shape[:2]\n",
    "\n",
    "M = np.eye(2, 3)\n",
    "M[0, 0] = 0.8\n",
    "M[1, 1] = 0.6\n",
    "\n",
    "dst_img = cv2.warpAffine(src_img, M, (width, height))\n",
    "\n",
    "cv2.imshow(\"src_img\", src_img)\n",
    "cv2.imshow(\"dst_img\", dst_img)\n",
    "cv2.waitKey()\n",
    "cv2.destroyAllWindows()"
   ],
   "metadata": {
    "collapsed": false
   }
  },
  {
   "cell_type": "markdown",
   "source": [],
   "metadata": {
    "collapsed": false
   }
  },
  {
   "cell_type": "markdown",
   "source": [
    "## 2、旋转变换"
   ],
   "metadata": {
    "collapsed": false
   }
  },
  {
   "cell_type": "code",
   "execution_count": null,
   "outputs": [],
   "source": [
    "import cv2\n",
    "import numpy as np\n",
    "\n",
    "src_img = cv2.imread(\"img.jpg\")\n",
    "height, width = src_img.shape[:2]\n",
    "\n",
    "M = np.eye(2, 3)\n",
    "M[0, 0] = np.cos(np.pi / 12)\n",
    "M[0, 1] = -np.sin(np.pi / 12)\n",
    "M[1, 0] = np.sin(np.pi / 12)\n",
    "M[1, 1] = np.cos(np.pi / 12)\n",
    "\n",
    "dst_img = cv2.warpAffine(src_img, M, (width, height))\n",
    "\n",
    "cv2.imshow(\"src_img\", src_img)\n",
    "cv2.imshow(\"dst_img\", dst_img)\n",
    "cv2.waitKey()\n",
    "cv2.destroyAllWindows()"
   ],
   "metadata": {
    "collapsed": false,
    "ExecuteTime": {
     "start_time": "2024-03-23T14:02:50.752959Z",
     "end_time": "2024-03-23T14:03:07.708552Z"
    }
   }
  },
  {
   "cell_type": "markdown",
   "source": [
    "## 3、切变变换"
   ],
   "metadata": {
    "collapsed": false
   }
  },
  {
   "cell_type": "code",
   "execution_count": null,
   "outputs": [],
   "source": [
    "import cv2\n",
    "import numpy as np\n",
    "\n",
    "src_img = cv2.imread(\"img.jpg\")\n",
    "height, width = src_img.shape[:2]\n",
    "\n",
    "M = np.eye(2, 3)\n",
    "M[0, 1] = np.tan(np.pi / 12)\n",
    "\n",
    "dst_img = cv2.warpAffine(src_img, M, (width, height))\n",
    "\n",
    "cv2.imshow(\"src_img\", src_img)\n",
    "cv2.imshow(\"dst_img\", dst_img)\n",
    "cv2.waitKey()\n",
    "cv2.destroyAllWindows()"
   ],
   "metadata": {
    "collapsed": false,
    "ExecuteTime": {
     "start_time": "2024-03-23T14:47:38.229712Z",
     "end_time": "2024-03-23T14:50:28.468387Z"
    }
   }
  },
  {
   "cell_type": "markdown",
   "source": [
    "## 4、平移变换"
   ],
   "metadata": {
    "collapsed": false
   }
  },
  {
   "cell_type": "code",
   "execution_count": null,
   "outputs": [],
   "source": [
    "import cv2\n",
    "import numpy as np\n",
    "\n",
    "src_img = cv2.imread(\"img.jpg\")\n",
    "height, width = src_img.shape[:2]\n",
    "\n",
    "M = np.eye(2, 3)\n",
    "M[0, 2] = 20\n",
    "M[1, 2] = 40\n",
    "\n",
    "dst_img = cv2.warpAffine(src_img, M, (width, height))\n",
    "\n",
    "cv2.imshow(\"src_img\", src_img)\n",
    "cv2.imshow(\"dst_img\", dst_img)\n",
    "cv2.waitKey()\n",
    "cv2.destroyAllWindows()"
   ],
   "metadata": {
    "collapsed": false,
    "ExecuteTime": {
     "start_time": "2024-03-23T15:56:33.724741Z",
     "end_time": "2024-03-23T15:56:39.991018Z"
    }
   }
  },
  {
   "cell_type": "markdown",
   "source": [
    "## 5、仿射变换"
   ],
   "metadata": {
    "collapsed": false
   }
  },
  {
   "cell_type": "code",
   "execution_count": 2,
   "outputs": [
    {
     "name": "stderr",
     "output_type": "stream",
     "text": [
      "2024-03-24 15:16:27.404 python[5108:317401] _TIPropertyValueIsValid called with 11 on nil context!\n",
      "2024-03-24 15:16:27.404 python[5108:317401] imkxpc_setApplicationProperty:value:reply: called with incorrect property value 11, bailing.\n",
      "2024-03-24 15:16:27.404 python[5108:317401] _TIPropertyValueIsValid called with 12 on nil context!\n",
      "2024-03-24 15:16:27.404 python[5108:317401] imkxpc_setApplicationProperty:value:reply: called with incorrect property value 12, bailing.\n",
      "2024-03-24 15:16:30.011 python[5108:317401] _TIPropertyValueIsValid called with 11 on nil context!\n",
      "2024-03-24 15:16:30.011 python[5108:317401] imkxpc_setApplicationProperty:value:reply: called with incorrect property value 11, bailing.\n",
      "2024-03-24 15:16:30.011 python[5108:317401] _TIPropertyValueIsValid called with 12 on nil context!\n",
      "2024-03-24 15:16:30.011 python[5108:317401] imkxpc_setApplicationProperty:value:reply: called with incorrect property value 12, bailing.\n",
      "2024-03-24 15:16:30.344 python[5108:317401] _TIPropertyValueIsValid called with 11 on nil context!\n",
      "2024-03-24 15:16:30.344 python[5108:317401] imkxpc_setApplicationProperty:value:reply: called with incorrect property value 11, bailing.\n",
      "2024-03-24 15:16:30.344 python[5108:317401] _TIPropertyValueIsValid called with 12 on nil context!\n",
      "2024-03-24 15:16:30.344 python[5108:317401] imkxpc_setApplicationProperty:value:reply: called with incorrect property value 12, bailing.\n",
      "2024-03-24 15:16:30.560 python[5108:317401] _TIPropertyValueIsValid called with 12 on nil context!\n",
      "2024-03-24 15:16:30.560 python[5108:317401] imkxpc_setApplicationProperty:value:reply: called with incorrect property value 12, bailing.\n",
      "2024-03-24 15:16:31.944 python[5108:317401] _TIPropertyValueIsValid called with 11 on nil context!\n",
      "2024-03-24 15:16:31.944 python[5108:317401] imkxpc_setApplicationProperty:value:reply: called with incorrect property value 11, bailing.\n",
      "2024-03-24 15:16:31.944 python[5108:317401] _TIPropertyValueIsValid called with 12 on nil context!\n",
      "2024-03-24 15:16:31.944 python[5108:317401] imkxpc_setApplicationProperty:value:reply: called with incorrect property value 12, bailing.\n",
      "2024-03-24 15:16:32.168 python[5108:317401] _TIPropertyValueIsValid called with 12 on nil context!\n",
      "2024-03-24 15:16:32.168 python[5108:317401] imkxpc_setApplicationProperty:value:reply: called with incorrect property value 12, bailing.\n",
      "2024-03-24 15:16:32.478 python[5108:317401] _TIPropertyValueIsValid called with 11 on nil context!\n",
      "2024-03-24 15:16:32.478 python[5108:317401] imkxpc_setApplicationProperty:value:reply: called with incorrect property value 11, bailing.\n",
      "2024-03-24 15:16:32.478 python[5108:317401] _TIPropertyValueIsValid called with 12 on nil context!\n",
      "2024-03-24 15:16:32.478 python[5108:317401] imkxpc_setApplicationProperty:value:reply: called with incorrect property value 12, bailing.\n",
      "2024-03-24 15:24:08.046 python[5108:317401] _TIPropertyValueIsValid called with 11 on nil context!\n",
      "2024-03-24 15:24:08.046 python[5108:317401] imkxpc_setApplicationProperty:value:reply: called with incorrect property value 11, bailing.\n",
      "2024-03-24 15:24:08.046 python[5108:317401] _TIPropertyValueIsValid called with 12 on nil context!\n",
      "2024-03-24 15:24:08.046 python[5108:317401] imkxpc_setApplicationProperty:value:reply: called with incorrect property value 12, bailing.\n"
     ]
    },
    {
     "data": {
      "text/plain": "-1"
     },
     "execution_count": 2,
     "metadata": {},
     "output_type": "execute_result"
    }
   ],
   "source": [
    "import cv2\n",
    "import numpy as np\n",
    "\n",
    "src_img = cv2.imread(\"img.jpg\")\n",
    "height, width = src_img.shape[:2]\n",
    "\n",
    "# 旋转矩阵\n",
    "S = np.eye(3, 3)\n",
    "S[0, 0] = 0.8\n",
    "S[1, 1] = 0.6\n",
    "\n",
    "# 旋转矩阵\n",
    "R = np.eye(3, 3)\n",
    "R[0, 0] = np.cos(np.pi / 12)\n",
    "R[0, 1] = -np.sin(np.pi / 12)\n",
    "R[1, 0] = np.sin(np.pi / 12)\n",
    "R[1, 1] = np.cos(np.pi / 12)\n",
    "\n",
    "# 平移矩阵\n",
    "T = np.eye(3, 3)\n",
    "T[0, 2] = 40\n",
    "T[1, 2] = 20\n",
    "\n",
    "# 仿射变换矩阵\n",
    "M = T @ R @ S\n",
    "\n",
    "# 操作变换\n",
    "dst_img = cv2.warpAffine(src_img, M[:2], (width, height))\n",
    "\n",
    "cv2.imshow(\"src_img\", src_img)\n",
    "cv2.imshow(\"dst_img\", dst_img)\n",
    "cv2.waitKey()\n",
    "cv2.destroyAllWindows()\n",
    "cv2.waitKey(1)"
   ],
   "metadata": {
    "collapsed": false,
    "ExecuteTime": {
     "start_time": "2024-03-24T15:16:27.362609Z",
     "end_time": "2024-03-24T15:24:08.216854Z"
    }
   }
  },
  {
   "cell_type": "markdown",
   "source": [
    "## 6、透视变换"
   ],
   "metadata": {
    "collapsed": false
   }
  },
  {
   "cell_type": "code",
   "execution_count": null,
   "outputs": [],
   "source": [
    "import cv2\n",
    "import numpy as np\n",
    "\n",
    "src_img = cv2.imread(\"img.jpg\")\n",
    "height, width = src_img.shape[:2]\n",
    "\n",
    "M = np.eye(3, 3)\n",
    "M[2, 0] = 0.0002\n",
    "M[2, 1] = 0.0002\n",
    "\n",
    "# src_p = np.float32([[0, 0], [width-1, 0], [0, height-1], [width-1, height-1]])\n",
    "# dst_p = np.float32([[0, 50], [width-1, 50], [50, height-51], [width-51, height-51]])\n",
    "# M = cv2.getPerspectiveTransform(src_p, dst_p)\n",
    "# print(M)\n",
    "\n",
    "dst_img = cv2.warpPerspective(src_img, M, (width, height))\n",
    "\n",
    "cv2.imshow(\"src_img\", src_img)\n",
    "cv2.imshow(\"dst_img\", dst_img)\n",
    "cv2.waitKey()\n",
    "cv2.destroyAllWindows()"
   ],
   "metadata": {
    "collapsed": false,
    "ExecuteTime": {
     "start_time": "2024-03-24T14:06:30.653423Z",
     "end_time": "2024-03-24T14:06:38.582976Z"
    }
   }
  }
 ],
 "metadata": {
  "kernelspec": {
   "display_name": "Python 3",
   "language": "python",
   "name": "python3"
  },
  "language_info": {
   "codemirror_mode": {
    "name": "ipython",
    "version": 2
   },
   "file_extension": ".py",
   "mimetype": "text/x-python",
   "name": "python",
   "nbconvert_exporter": "python",
   "pygments_lexer": "ipython2",
   "version": "2.7.6"
  }
 },
 "nbformat": 4,
 "nbformat_minor": 0
}
