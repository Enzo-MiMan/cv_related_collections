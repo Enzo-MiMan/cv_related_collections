{
 "cells": [
  {
   "cell_type": "markdown",
   "source": [
    "## 1、缩放变换"
   ],
   "metadata": {
    "collapsed": false
   }
  },
  {
   "cell_type": "code",
   "execution_count": null,
   "outputs": [],
   "source": [
    "import cv2\n",
    "import numpy as np\n",
    "\n",
    "src_img = cv2.imread(\"img.jpg\")\n",
    "height, width = src_img.shape[:2]\n",
    "\n",
    "M = np.eye(2, 3)\n",
    "M[0, 0] = 0.8\n",
    "M[1, 1] = 0.6\n",
    "\n",
    "dst_img = cv2.warpAffine(src_img, M, (width, height))\n",
    "\n",
    "cv2.imshow(\"src_img\", src_img)\n",
    "cv2.imshow(\"dst_img\", dst_img)\n",
    "cv2.waitKey()\n",
    "cv2.destroyAllWindows()"
   ],
   "metadata": {
    "collapsed": false
   }
  },
  {
   "cell_type": "markdown",
   "source": [],
   "metadata": {
    "collapsed": false
   }
  },
  {
   "cell_type": "markdown",
   "source": [
    "## 2、旋转变换"
   ],
   "metadata": {
    "collapsed": false
   }
  },
  {
   "cell_type": "code",
   "execution_count": null,
   "outputs": [],
   "source": [
    "import cv2\n",
    "import numpy as np\n",
    "\n",
    "src_img = cv2.imread(\"img.jpg\")\n",
    "height, width = src_img.shape[:2]\n",
    "\n",
    "M = np.eye(2, 3)\n",
    "M[0, 0] = np.cos(np.pi / 12)\n",
    "M[0, 1] = -np.sin(np.pi / 12)\n",
    "M[1, 0] = np.sin(np.pi / 12)\n",
    "M[1, 1] = np.cos(np.pi / 12)\n",
    "\n",
    "dst_img = cv2.warpAffine(src_img, M, (width, height))\n",
    "\n",
    "cv2.imshow(\"src_img\", src_img)\n",
    "cv2.imshow(\"dst_img\", dst_img)\n",
    "cv2.waitKey()\n",
    "cv2.destroyAllWindows()"
   ],
   "metadata": {
    "collapsed": false,
    "ExecuteTime": {
     "start_time": "2024-03-23T14:02:50.752959Z",
     "end_time": "2024-03-23T14:03:07.708552Z"
    }
   }
  },
  {
   "cell_type": "markdown",
   "source": [
    "## 3、切变变换"
   ],
   "metadata": {
    "collapsed": false
   }
  },
  {
   "cell_type": "code",
   "execution_count": null,
   "outputs": [],
   "source": [
    "import cv2\n",
    "import numpy as np\n",
    "\n",
    "src_img = cv2.imread(\"img.jpg\")\n",
    "height, width = src_img.shape[:2]\n",
    "\n",
    "M = np.eye(2, 3)\n",
    "M[0, 1] = np.tan(np.pi / 12)\n",
    "\n",
    "dst_img = cv2.warpAffine(src_img, M, (width, height))\n",
    "\n",
    "cv2.imshow(\"src_img\", src_img)\n",
    "cv2.imshow(\"dst_img\", dst_img)\n",
    "cv2.waitKey()\n",
    "cv2.destroyAllWindows()"
   ],
   "metadata": {
    "collapsed": false,
    "ExecuteTime": {
     "start_time": "2024-03-23T14:47:38.229712Z",
     "end_time": "2024-03-23T14:50:28.468387Z"
    }
   }
  },
  {
   "cell_type": "markdown",
   "source": [
    "## 4、平移变换"
   ],
   "metadata": {
    "collapsed": false
   }
  },
  {
   "cell_type": "code",
   "execution_count": null,
   "outputs": [],
   "source": [
    "import cv2\n",
    "import numpy as np\n",
    "\n",
    "src_img = cv2.imread(\"img.jpg\")\n",
    "height, width = src_img.shape[:2]\n",
    "\n",
    "M = np.eye(2, 3)\n",
    "M[0, 2] = 20\n",
    "M[1, 2] = 40\n",
    "\n",
    "dst_img = cv2.warpAffine(src_img, M, (width, height))\n",
    "\n",
    "cv2.imshow(\"src_img\", src_img)\n",
    "cv2.imshow(\"dst_img\", dst_img)\n",
    "cv2.waitKey()\n",
    "cv2.destroyAllWindows()"
   ],
   "metadata": {
    "collapsed": false,
    "ExecuteTime": {
     "start_time": "2024-03-23T15:56:33.724741Z",
     "end_time": "2024-03-23T15:56:39.991018Z"
    }
   }
  },
  {
   "cell_type": "code",
   "execution_count": null,
   "outputs": [],
   "source": [],
   "metadata": {
    "collapsed": false
   }
  }
 ],
 "metadata": {
  "kernelspec": {
   "display_name": "Python 3",
   "language": "python",
   "name": "python3"
  },
  "language_info": {
   "codemirror_mode": {
    "name": "ipython",
    "version": 2
   },
   "file_extension": ".py",
   "mimetype": "text/x-python",
   "name": "python",
   "nbconvert_exporter": "python",
   "pygments_lexer": "ipython2",
   "version": "2.7.6"
  }
 },
 "nbformat": 4,
 "nbformat_minor": 0
}
