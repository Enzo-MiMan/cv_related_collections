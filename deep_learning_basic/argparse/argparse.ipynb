{
 "cells": [
  {
   "cell_type": "markdown",
   "source": [
    "## 1、添加参数"
   ],
   "metadata": {
    "collapsed": false
   }
  },
  {
   "cell_type": "code",
   "execution_count": null,
   "outputs": [],
   "source": [
    "import argparse\n",
    "\n",
    "parser = argparse.ArgumentParser(description=\"description\")\n",
    "\n",
    "parser.add_argument('-gf', '--girlfriend', choices=['jingjing', 'lihuan'])\n",
    "parser.add_argument('food')\n",
    "parser.add_argument('--house', type=int, default=0)\n",
    "\n",
    "args = parser.parse_args()\n",
    "print('args :',args)\n",
    "print('girlfriend :', args.girlfriend)\n",
    "print('food :', args.food)\n",
    "print('house :', args.house)"
   ],
   "metadata": {
    "collapsed": false
   }
  },
  {
   "cell_type": "markdown",
   "source": [
    "## 2、参数 action 的使用"
   ],
   "metadata": {
    "collapsed": false
   }
  },
  {
   "cell_type": "code",
   "execution_count": null,
   "outputs": [],
   "source": [
    "import argparse\n",
    "\n",
    "parser = argparse.ArgumentParser(description=\"description\")\n",
    "\n",
    "parser.add_argument('--pa', '-a', action='store_true')\n",
    "parser.add_argument('--pb', '-b', action=\"store_false\")\n",
    "args = parser.parse_args()\n",
    "print(args)"
   ],
   "metadata": {
    "collapsed": false
   }
  },
  {
   "cell_type": "markdown",
   "source": [
    "同时指定 参数action 和 参数default 的情况"
   ],
   "metadata": {
    "collapsed": false
   }
  },
  {
   "cell_type": "code",
   "execution_count": null,
   "outputs": [],
   "source": [
    "import argparse\n",
    "\n",
    "parser = argparse.ArgumentParser(description=\"description\")\n",
    "\n",
    "parser.add_argument('--pa','-a',action='store_true')\n",
    "parser.add_argument('--pb','-b',action=\"store_true\",default=True)\n",
    "parser.add_argument('--pc','-c',action=\"store_true\",default=False)\n",
    "\n",
    "parser.add_argument('--pd','-d',action='store_false')\n",
    "parser.add_argument('--pe','-e',action=\"store_false\",default=True)\n",
    "parser.add_argument('--pf','-f',action=\"store_false\",default=False)\n",
    "\n",
    "args = parser.parse_args()\n",
    "print(args)"
   ],
   "metadata": {
    "collapsed": false
   }
  },
  {
   "cell_type": "markdown",
   "source": [
    "## 3、代码实例"
   ],
   "metadata": {
    "collapsed": false
   }
  },
  {
   "cell_type": "code",
   "execution_count": null,
   "outputs": [],
   "source": [
    "import torch\n",
    "import datetime\n",
    "import argparse\n",
    "\n",
    "\n",
    "def diffusion_defaults():\n",
    "    defaults = dict(\n",
    "        num_timesteps=1000,\n",
    "        schedule=\"linear\",\n",
    "        loss_type=\"l2\",\n",
    "        use_labels=False,\n",
    "\n",
    "        base_channels=128,\n",
    "        channel_mults=(1, 2, 2, 2),\n",
    "        num_res_blocks=2,\n",
    "        time_emb_dim=128 * 4,\n",
    "        norm=\"gn\",\n",
    "        dropout=0.1,\n",
    "        activation=\"silu\",\n",
    "        attention_resolutions=(1,),\n",
    "\n",
    "        ema_decay=0.9999,\n",
    "        ema_update_rate=1,\n",
    "    )\n",
    "    return defaults\n",
    "\n",
    "\n",
    "def add_dict_to_argparser(parser, default_dict):\n",
    "    for k, v in default_dict.items():\n",
    "        v_type = type(v)\n",
    "        if v is None:\n",
    "            v_type = str\n",
    "        parser.add_argument(f\"--{k}\", default=v, type=v_type)\n",
    "\n",
    "\n",
    "def create_argparser():\n",
    "    device = torch.device(\"cuda\") if torch.cuda.is_available() else torch.device(\"cpu\")\n",
    "    run_name = datetime.datetime.now().strftime(\"ddpm-%Y-%m-%d-%H-%M\")\n",
    "    defaults = dict(\n",
    "        learning_rate=2e-4,\n",
    "        batch_size=2,\n",
    "        iterations=800000,\n",
    "\n",
    "        log_to_wandb=True,\n",
    "        log_rate=1000,\n",
    "        checkpoint_rate=1000,\n",
    "        log_dir=\"~/ddpm_logs\",\n",
    "        project_name=\"Enzo_ddpm\",\n",
    "        run_name=run_name,\n",
    "\n",
    "        model_checkpoint=None,\n",
    "        optim_checkpoint=None,\n",
    "\n",
    "        schedule_low=1e-4,\n",
    "        schedule_high=0.02,\n",
    "\n",
    "        device=device,\n",
    "    )\n",
    "    defaults.update(diffusion_defaults())\n",
    "    parser = argparse.ArgumentParser()\n",
    "    add_dict_to_argparser(parser, defaults)\n",
    "    return parser\n",
    "\n",
    "\n",
    "if __name__ == '__main__':\n",
    "    args = create_argparser().parse_args()\n",
    "    print(args)"
   ],
   "metadata": {
    "collapsed": false
   }
  }
 ],
 "metadata": {
  "kernelspec": {
   "display_name": "Python 3",
   "language": "python",
   "name": "python3"
  },
  "language_info": {
   "codemirror_mode": {
    "name": "ipython",
    "version": 2
   },
   "file_extension": ".py",
   "mimetype": "text/x-python",
   "name": "python",
   "nbconvert_exporter": "python",
   "pygments_lexer": "ipython2",
   "version": "2.7.6"
  }
 },
 "nbformat": 4,
 "nbformat_minor": 0
}
