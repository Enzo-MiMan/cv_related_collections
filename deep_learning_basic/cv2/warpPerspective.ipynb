{
 "cells": [
  {
   "cell_type": "code",
   "execution_count": null,
   "metadata": {
    "collapsed": true,
    "ExecuteTime": {
     "start_time": "2024-03-24T10:37:44.732107Z",
     "end_time": "2024-03-24T10:37:46.364110Z"
    }
   },
   "outputs": [],
   "source": [
    "import cv2\n",
    "import numpy as np\n",
    "\n",
    "src_img = cv2.imread(\"img.png\")\n",
    "height, width = src_img.shape[:2]\n",
    "\n",
    "src_p = np.float32([[0, 0], [width-1, 0], [0, height-1], [width-1, height-1]])\n",
    "dst_p = np.float32([[0, 50], [width-1, 50], [50, height-51], [width-51, height-51]])\n",
    "\n",
    "M = cv2.getPerspectiveTransform(src_p, dst_p)\n",
    "dst_img = cv2.warpPerspective(src_img, M, (width, height))\n",
    "\n",
    "cv2.imshow(\"src_img\", src_img)\n",
    "cv2.imshow(\"dst_img\", dst_img)\n",
    "cv2.waitKey()\n",
    "cv2.destroyAllWindows()"
   ]
  }
 ],
 "metadata": {
  "kernelspec": {
   "display_name": "Python 3",
   "language": "python",
   "name": "python3"
  },
  "language_info": {
   "codemirror_mode": {
    "name": "ipython",
    "version": 2
   },
   "file_extension": ".py",
   "mimetype": "text/x-python",
   "name": "python",
   "nbconvert_exporter": "python",
   "pygments_lexer": "ipython2",
   "version": "2.7.6"
  }
 },
 "nbformat": 4,
 "nbformat_minor": 0
}
