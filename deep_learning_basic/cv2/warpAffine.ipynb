{
 "cells": [
  {
   "cell_type": "markdown",
   "source": [
    "## 4.1 手动指定变换矩阵"
   ],
   "metadata": {
    "collapsed": false
   }
  },
  {
   "cell_type": "code",
   "execution_count": null,
   "outputs": [],
   "source": [
    "import cv2\n",
    "import numpy as np\n",
    "\n",
    "src_img = cv2.imread(\"img.png\")\n",
    "height, width = src_img.shape[:2]\n",
    "\n",
    "M = np.float32([[1, 0, 200], [0, 1, 100]])\n",
    "dst_img = cv2.warpAffine(src_img, M, (width, height))\n",
    "\n",
    "cv2.imshow(\"src_img\", src_img)\n",
    "cv2.imshow(\"dst_img\", dst_img)\n",
    "cv2.waitKey()\n",
    "cv2.destroyAllWindows()"
   ],
   "metadata": {
    "collapsed": false,
    "ExecuteTime": {
     "start_time": "2024-03-24T10:26:22.730852Z",
     "end_time": "2024-03-24T10:26:24.542702Z"
    }
   }
  },
  {
   "cell_type": "markdown",
   "source": [
    "## 4.2 cv2.getRotationMatrix2D() 获取变换矩阵"
   ],
   "metadata": {
    "collapsed": false
   }
  },
  {
   "cell_type": "code",
   "execution_count": null,
   "outputs": [],
   "source": [
    "import cv2\n",
    "\n",
    "src_img = cv2.imread(\"img.png\")\n",
    "height, width = src_img.shape[:2]\n",
    "\n",
    "M = cv2.getRotationMatrix2D((width/2, height/2), 45, 0.6)\n",
    "dst_img = cv2.warpAffine(src_img, M, (width, height))\n",
    "\n",
    "cv2.imshow(\"src_img\", src_img)\n",
    "cv2.imshow(\"dst_img\", dst_img)\n",
    "cv2.waitKey()\n",
    "cv2.destroyAllWindows()"
   ],
   "metadata": {
    "collapsed": false,
    "ExecuteTime": {
     "start_time": "2024-03-24T10:27:53.042981Z",
     "end_time": "2024-03-24T10:27:55.007979Z"
    }
   }
  },
  {
   "cell_type": "markdown",
   "source": [
    "## 4.3 cv2.getAffineTransform() 获取变换矩阵"
   ],
   "metadata": {
    "collapsed": false
   }
  },
  {
   "cell_type": "code",
   "execution_count": 5,
   "outputs": [],
   "source": [
    "import cv2\n",
    "import numpy as np\n",
    "\n",
    "src_img = cv2.imread(\"img.png\")\n",
    "rows, cols = src_img.shape[:2]\n",
    "\n",
    "src_p = np.float32([[0, 0], [cols-1, 0], [0, rows-1]])\n",
    "dst_p = np.float32([[0, rows*0.33], [cols*0.85, rows*0.25], [cols*0.15, rows*0.7]])\n",
    "M = cv2.getAffineTransform(src_p, dst_p)\n",
    "dst_img = cv2.warpAffine(src_img, M, (cols, rows))\n",
    "\n",
    "cv2.imshow(\"src_img\", src_img)\n",
    "cv2.imshow(\"dst_img\", dst_img)\n",
    "cv2.waitKey()\n",
    "cv2.destroyAllWindows()"
   ],
   "metadata": {
    "collapsed": false,
    "ExecuteTime": {
     "start_time": "2024-03-24T10:38:12.638907Z",
     "end_time": "2024-03-24T10:38:14.218857Z"
    }
   }
  }
 ],
 "metadata": {
  "kernelspec": {
   "display_name": "Python 3",
   "language": "python",
   "name": "python3"
  },
  "language_info": {
   "codemirror_mode": {
    "name": "ipython",
    "version": 2
   },
   "file_extension": ".py",
   "mimetype": "text/x-python",
   "name": "python",
   "nbconvert_exporter": "python",
   "pygments_lexer": "ipython2",
   "version": "2.7.6"
  }
 },
 "nbformat": 4,
 "nbformat_minor": 0
}
