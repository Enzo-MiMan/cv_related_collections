{
 "cells": [
  {
   "cell_type": "code",
   "execution_count": null,
   "metadata": {
    "collapsed": true,
    "ExecuteTime": {
     "start_time": "2024-03-17T10:51:12.245358Z",
     "end_time": "2024-03-17T10:51:24.038671Z"
    }
   },
   "outputs": [],
   "source": [
    "import cv2\n",
    "import numpy as np\n",
    "\n",
    "src_img = cv2.imread(\"img.jpg\")\n",
    "height, width = src_img.shape[:2]\n",
    "print(src_img.shape)\n",
    "\n",
    "M = np.float32([[1, 0, 200], [0, 1, 100]])\n",
    "\n",
    "dst_img = cv2.warpAffine(src_img, M, (width, height))\n",
    "\n",
    "cv2.imshow(\"src_img\", src_img)\n",
    "cv2.imshow(\"dst_img\", dst_img)\n",
    "cv2.waitKey()\n",
    "cv2.destroyAllWindows()"
   ]
  },
  {
   "cell_type": "code",
   "execution_count": null,
   "outputs": [],
   "source": [
    "import cv2\n",
    "\n",
    "src_img = cv2.imread(\"img.jpg\")\n",
    "height, width = src_img.shape[:2]\n",
    "\n",
    "M = cv2.getRotationMatrix2D((width/2, height/2), 45, 0.6)\n",
    "dst_img = cv2.warpAffine(src_img, M, (width, height))\n",
    "\n",
    "cv2.imshow(\"src_img\", src_img)\n",
    "cv2.imshow(\"dst_img\", dst_img)\n",
    "cv2.waitKey()\n",
    "cv2.destroyAllWindows()"
   ],
   "metadata": {
    "collapsed": false,
    "ExecuteTime": {
     "start_time": "2024-03-17T10:56:48.136030Z",
     "end_time": "2024-03-17T10:57:09.369116Z"
    }
   }
  },
  {
   "cell_type": "code",
   "execution_count": null,
   "outputs": [],
   "source": [
    "import cv2\n",
    "import numpy as np\n",
    "\n",
    "src_img = cv2.imread(\"img.jpg\")\n",
    "rows, cols = src_img.shape[:2]\n",
    "\n",
    "src_p = np.float32([[0, 0], [cols-1, 0], [0, rows-1]])\n",
    "dst_p = np.float32([[0, rows*0.33], [cols*0.85, rows*0.25], [cols*0.15, rows*0.7]])\n",
    "M = cv2.getAffineTransform(src_p, dst_p)\n",
    "dst_img = cv2.warpAffine(src_img, M, (cols, rows))\n",
    "\n",
    "cv2.imshow(\"src_img\", src_img)\n",
    "cv2.imshow(\"dst_img\", dst_img)\n",
    "cv2.waitKey()\n",
    "cv2.destroyAllWindows()\n",
    "cv2.waitKey(1)"
   ],
   "metadata": {
    "collapsed": false,
    "ExecuteTime": {
     "start_time": "2024-03-17T11:24:35.844351Z",
     "end_time": "2024-03-17T11:24:44.673848Z"
    }
   }
  }
 ],
 "metadata": {
  "kernelspec": {
   "display_name": "Python 3",
   "language": "python",
   "name": "python3"
  },
  "language_info": {
   "codemirror_mode": {
    "name": "ipython",
    "version": 2
   },
   "file_extension": ".py",
   "mimetype": "text/x-python",
   "name": "python",
   "nbconvert_exporter": "python",
   "pygments_lexer": "ipython2",
   "version": "2.7.6"
  }
 },
 "nbformat": 4,
 "nbformat_minor": 0
}
