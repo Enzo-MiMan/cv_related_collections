{
 "cells": [
  {
   "cell_type": "markdown",
   "source": [
    "## 1、 IntermediateLayerGetter"
   ],
   "metadata": {
    "collapsed": false
   }
  },
  {
   "cell_type": "code",
   "execution_count": 1,
   "outputs": [
    {
     "name": "stdout",
     "output_type": "stream",
     "text": [
      "conv1\n",
      "bn1\n",
      "relu\n",
      "maxpool\n",
      "layer1\n",
      "layer2\n",
      "layer3\n",
      "layer4\n",
      "avgpool\n",
      "fc\n",
      "--------------------------------\n",
      "odict_keys(['out1', 'out2'])\n",
      "torch.Size([1, 1024, 14, 14])\n",
      "torch.Size([1, 2048, 7, 7])\n"
     ]
    }
   ],
   "source": [
    "import torch\n",
    "import torchvision.models as models\n",
    "from torchvision.models._utils import IntermediateLayerGetter\n",
    "\n",
    "model = models.resnet50()\n",
    "\n",
    "# 查看网络中间层的层名\n",
    "for name, layer in model.named_children():\n",
    "    print(name)\n",
    "print('--------------------------------')\n",
    "\n",
    "# 指定需要哪些层的输出， 只能指定一级子层名称，无法指定二级子层名称\n",
    "return_layers = {'layer3': \"out1\", 'layer4': \"out2\",}\n",
    "\n",
    "# 生成模型对象\n",
    "new_model = IntermediateLayerGetter(model, return_layers=return_layers)\n",
    "\n",
    "# 调用forward方法，得到我们要的中间层的输出\n",
    "output = new_model(torch.rand(1, 3, 224, 224))\n",
    "\n",
    "print(output.keys())\n",
    "print(output[\"out1\"].shape)\n",
    "print(output[\"out2\"].shape)"
   ],
   "metadata": {
    "collapsed": false,
    "ExecuteTime": {
     "start_time": "2024-03-28T23:03:36.282025Z",
     "end_time": "2024-03-28T23:03:39.280531Z"
    }
   }
  },
  {
   "cell_type": "markdown",
   "source": [
    "\n",
    "\n",
    "## 2、 register_forward_hook\n",
    "\n",
    "\n",
    "### 例1"
   ],
   "metadata": {
    "collapsed": false
   }
  },
  {
   "cell_type": "code",
   "execution_count": 2,
   "outputs": [
    {
     "name": "stdout",
     "output_type": "stream",
     "text": [
      "torch.Size([3, 2])\n",
      "torch.Size([3, 5])\n"
     ]
    }
   ],
   "source": [
    "import torch\n",
    "import torch.nn as nn\n",
    "\n",
    "# 定义一个简单的模型\n",
    "class SimpleModel(nn.Module):\n",
    "    def __init__(self):\n",
    "        super(SimpleModel, self).__init__()\n",
    "        self.layer1 = nn.Linear(10, 5)\n",
    "        self.layer2 = nn.ReLU()\n",
    "        self.layer3 = nn.Linear(5, 2)\n",
    "\n",
    "    def forward(self, x):\n",
    "        x = self.layer1(x)\n",
    "        x = self.layer2(x)\n",
    "        x = self.layer3(x)\n",
    "        return x\n",
    "\n",
    "# 创建模型实例\n",
    "model = SimpleModel()\n",
    "\n",
    "# 定义一个用于处理中间层输出的回调函数\n",
    "features = []\n",
    "def forward_hook(module, input, output):\n",
    "    features.append(output.clone().detach())\n",
    "\n",
    "# 注册 forward hook 到指定层\n",
    "hook_layer = model.layer2\n",
    "hook_handle = hook_layer.register_forward_hook(forward_hook)\n",
    "\n",
    "# 创建输入数据\n",
    "input_data = torch.randn(3, 10)\n",
    "\n",
    "# 模型前向传播\n",
    "output = model(input_data)\n",
    "\n",
    "# 注销 forward hook\n",
    "hook_handle.remove()\n",
    "\n",
    "print(output.shape)\n",
    "print(features[0].shape)"
   ],
   "metadata": {
    "collapsed": false,
    "ExecuteTime": {
     "start_time": "2024-03-28T23:03:57.669377Z",
     "end_time": "2024-03-28T23:03:57.682092Z"
    }
   }
  },
  {
   "cell_type": "markdown",
   "source": [
    "\n",
    "\n",
    "### 例2 ： 获取 resnet-50 网络中 model.layer3[1].conv2  这一层的输出"
   ],
   "metadata": {
    "collapsed": false
   }
  },
  {
   "cell_type": "code",
   "execution_count": 3,
   "outputs": [
    {
     "name": "stdout",
     "output_type": "stream",
     "text": [
      "torch.Size([1, 1000])\n",
      "torch.Size([1, 256, 14, 14])\n"
     ]
    }
   ],
   "source": [
    "import torch\n",
    "import torchvision.models as models\n",
    "\n",
    "model = models.resnet50()\n",
    "\n",
    "# 注册 forward hook 到指定层\n",
    "hook_layer = model.layer3[1].conv2\n",
    "\n",
    "# # 查看网络中间层的层名\n",
    "# for name, layer in model.named_modules():\n",
    "#     print(name)\n",
    "# print('--------------------------------')\n",
    "\n",
    "# 定义一个用于处理中间层输出的回调函数\n",
    "features = []\n",
    "def forward_hook(module, input, output):\n",
    "    features.append(output.clone().detach())\n",
    "\n",
    "\n",
    "hook_handle = hook_layer.register_forward_hook(forward_hook)\n",
    "\n",
    "# 创建输入数据\n",
    "input_data = torch.randn(1, 3, 224, 224)\n",
    "\n",
    "# 模型前向传播\n",
    "output = model(input_data)\n",
    "\n",
    "# 注销 forward hook\n",
    "hook_handle.remove()\n",
    "\n",
    "print(output.shape)\n",
    "print(features[0].shape)"
   ],
   "metadata": {
    "collapsed": false,
    "ExecuteTime": {
     "start_time": "2024-03-28T23:04:35.365258Z",
     "end_time": "2024-03-28T23:04:35.787802Z"
    }
   }
  }
 ],
 "metadata": {
  "kernelspec": {
   "display_name": "Python 3",
   "language": "python",
   "name": "python3"
  },
  "language_info": {
   "codemirror_mode": {
    "name": "ipython",
    "version": 2
   },
   "file_extension": ".py",
   "mimetype": "text/x-python",
   "name": "python",
   "nbconvert_exporter": "python",
   "pygments_lexer": "ipython2",
   "version": "2.7.6"
  }
 },
 "nbformat": 4,
 "nbformat_minor": 0
}
